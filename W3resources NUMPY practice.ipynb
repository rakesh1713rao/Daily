{
 "cells": [
  {
   "cell_type": "markdown",
   "id": "487805c2",
   "metadata": {},
   "source": [
    "Write a Python function that takes a sequence of numbers and determines whether all the numbers are different from each other."
   ]
  },
  {
   "cell_type": "code",
   "execution_count": 1,
   "id": "a340eaee",
   "metadata": {},
   "outputs": [
    {
     "data": {
      "text/plain": [
       "False"
      ]
     },
     "execution_count": 1,
     "metadata": {},
     "output_type": "execute_result"
    }
   ],
   "source": [
    "a = [1,2,3,4,5,5,6]\n",
    "\n",
    "\n",
    "def excer_1(a):\n",
    "    if len(a) == len(set(a)):\n",
    "        return True\n",
    "    else:\n",
    "        return False\n",
    "    \n",
    "\n",
    "excer_1(a)\n"
   ]
  },
  {
   "cell_type": "markdown",
   "id": "81a9d46d",
   "metadata": {},
   "source": [
    "### Write a NumPy program to test whether none of the elements of a given array are zero. "
   ]
  },
  {
   "cell_type": "code",
   "execution_count": 2,
   "id": "0d2f1f9e",
   "metadata": {},
   "outputs": [
    {
     "name": "stdout",
     "output_type": "stream",
     "text": [
      "False\n",
      "True\n"
     ]
    }
   ],
   "source": [
    "import numpy as np\n",
    "\n",
    "my_array = np.array([0,1,2,4,5,6])\n",
    "my_array2 = np.array([1,2,3,4,5,6])\n",
    "\n",
    "print(np.all(my_array))\n",
    "print(np.all(my_array2))"
   ]
  },
  {
   "cell_type": "markdown",
   "id": "6d1133b0",
   "metadata": {},
   "source": [
    "### Write a NumPy program to test if any of the elements of a given array are non-zero"
   ]
  },
  {
   "cell_type": "code",
   "execution_count": 3,
   "id": "da36d054",
   "metadata": {},
   "outputs": [
    {
     "name": "stdout",
     "output_type": "stream",
     "text": [
      "True\n",
      "True\n"
     ]
    }
   ],
   "source": [
    "my_array = np.array([0,1,0,0,0,0])\n",
    "my_array2 = np.array([1,2,3,4,5,6])\n",
    "\n",
    "print(np.any(my_array))\n",
    "print(np.any(my_array2))"
   ]
  },
  {
   "cell_type": "markdown",
   "id": "47048c7c",
   "metadata": {},
   "source": [
    "Write a NumPy program to test element-wise for NaN of a given array."
   ]
  },
  {
   "cell_type": "code",
   "execution_count": 4,
   "id": "cae89aab",
   "metadata": {},
   "outputs": [
    {
     "data": {
      "text/plain": [
       "array([ True, False, False,  True, False,  True])"
      ]
     },
     "execution_count": 4,
     "metadata": {},
     "output_type": "execute_result"
    }
   ],
   "source": [
    "my_array = np.array([np.NaN,1,0,np.NaN,0,np.NaN])\n",
    "\n",
    "np.isnan(my_array)"
   ]
  },
  {
   "cell_type": "markdown",
   "id": "fae81a66",
   "metadata": {},
   "source": [
    "Write a NumPy program to create an array of 10 zeros, 10 ones, and 10 fives"
   ]
  },
  {
   "cell_type": "code",
   "execution_count": 7,
   "id": "f0fbadb6",
   "metadata": {},
   "outputs": [
    {
     "name": "stdout",
     "output_type": "stream",
     "text": [
      "[0. 0. 0. 0. 0. 0. 0. 0. 0. 0.]\n",
      "[1. 1. 1. 1. 1. 1. 1. 1. 1. 1.]\n",
      "[5. 5. 5. 5. 5. 5. 5. 5. 5. 5.]\n"
     ]
    }
   ],
   "source": [
    "array0 = np.zeros(10)\n",
    "array1 = np.ones(10)\n",
    "array2 = np.ones(10)*5\n",
    "\n",
    "print(array0)\n",
    "print(array1)\n",
    "print(array2)"
   ]
  },
  {
   "cell_type": "markdown",
   "id": "bac95633",
   "metadata": {},
   "source": [
    "Write a NumPy program to create an array of all even integers from 30 to 70."
   ]
  },
  {
   "cell_type": "code",
   "execution_count": 9,
   "id": "428f30fe",
   "metadata": {},
   "outputs": [
    {
     "data": {
      "text/plain": [
       "array([30, 32, 34, 36, 38, 40, 42, 44, 46, 48, 50, 52, 54, 56, 58, 60, 62,\n",
       "       64, 66, 68, 70])"
      ]
     },
     "execution_count": 9,
     "metadata": {},
     "output_type": "execute_result"
    }
   ],
   "source": [
    "array30 = np.arange(30,71,2)\n",
    "\n",
    "array30"
   ]
  },
  {
   "cell_type": "markdown",
   "id": "1f11ebda",
   "metadata": {},
   "source": [
    "Write a NumPy program to create a 3x3 identity matrix."
   ]
  },
  {
   "cell_type": "code",
   "execution_count": 10,
   "id": "c89caae1",
   "metadata": {},
   "outputs": [
    {
     "data": {
      "text/plain": [
       "array([[1., 0., 0.],\n",
       "       [0., 1., 0.],\n",
       "       [0., 0., 1.]])"
      ]
     },
     "execution_count": 10,
     "metadata": {},
     "output_type": "execute_result"
    }
   ],
   "source": [
    "array_2d = np.identity(3)\n",
    "\n",
    "array_2d"
   ]
  },
  {
   "cell_type": "markdown",
   "id": "ed6bf6c3",
   "metadata": {},
   "source": [
    "Write a NumPy program to generate a random number between 0 and 1."
   ]
  },
  {
   "cell_type": "code",
   "execution_count": 38,
   "id": "eec11531",
   "metadata": {},
   "outputs": [
    {
     "data": {
      "text/plain": [
       "array([-0.29606089])"
      ]
     },
     "execution_count": 38,
     "metadata": {},
     "output_type": "execute_result"
    }
   ],
   "source": [
    "array_randomNums = np.random.normal(0,1,1)\n",
    "\n",
    "\n",
    "array_randomNums"
   ]
  },
  {
   "cell_type": "markdown",
   "id": "3008cb85",
   "metadata": {},
   "source": [
    "Write a NumPy program to generate an array of 15 random numbers from a standard normal distribution"
   ]
  },
  {
   "cell_type": "code",
   "execution_count": 48,
   "id": "95ccb352",
   "metadata": {},
   "outputs": [
    {
     "data": {
      "text/plain": [
       "array([-2.21063485,  0.51887301,  0.89338078, -1.44619496, -0.51740402,\n",
       "        0.08071481,  0.32258641,  1.49060684, -0.69448762, -1.36452607,\n",
       "        0.77756473,  0.19450063, -0.629113  ,  0.43857502, -0.15140018])"
      ]
     },
     "execution_count": 48,
     "metadata": {},
     "output_type": "execute_result"
    }
   ],
   "source": [
    "array_randomNums15 = np.random.normal(0,1,15)\n",
    "\n",
    "array_randomNums15"
   ]
  },
  {
   "cell_type": "markdown",
   "id": "6dea4e21",
   "metadata": {},
   "source": [
    "Write a NumPy program to create a vector with values ranging from 15 to 55 and print all values except the first and last."
   ]
  },
  {
   "cell_type": "code",
   "execution_count": 51,
   "id": "b41dd1f5",
   "metadata": {},
   "outputs": [
    {
     "name": "stdout",
     "output_type": "stream",
     "text": [
      "[15 16 17 18 19 20 21 22 23 24 25 26 27 28 29 30 31 32 33 34 35 36 37 38\n",
      " 39 40 41 42 43 44 45 46 47 48 49 50 51 52 53 54 55]\n",
      "[16 17 18 19 20 21 22 23 24 25 26 27 28 29 30 31 32 33 34 35 36 37 38 39\n",
      " 40 41 42 43 44 45 46 47 48 49 50 51 52 53 54]\n"
     ]
    }
   ],
   "source": [
    "vec = np.arange(15,56)\n",
    "\n",
    "print(vec)\n",
    "print(vec[1:-1])"
   ]
  },
  {
   "cell_type": "markdown",
   "id": "3cd20f76",
   "metadata": {},
   "source": [
    "Write a NumPy program to create a 3X4 array and iterate over it."
   ]
  },
  {
   "cell_type": "code",
   "execution_count": 59,
   "id": "4e06095b",
   "metadata": {},
   "outputs": [
    {
     "name": "stdout",
     "output_type": "stream",
     "text": [
      "[[10 11 12 13]\n",
      " [14 15 16 17]\n",
      " [18 19 20 21]]\n",
      "10 11 12 13 14 15 16 17 18 19 20 21 "
     ]
    }
   ],
   "source": [
    "a = np.arange(10,22).reshape(3,4)\n",
    "\n",
    "print(a)\n",
    "\n",
    "for i in np.nditer(a):\n",
    "    print(i,end=\" \")\n"
   ]
  },
  {
   "cell_type": "markdown",
   "id": "d5479230",
   "metadata": {},
   "source": [
    "Write a NumPy program to create a vector of length 10 with values evenly distributed between 5 and 50."
   ]
  },
  {
   "cell_type": "code",
   "execution_count": 63,
   "id": "65307303",
   "metadata": {},
   "outputs": [
    {
     "data": {
      "text/plain": [
       "array([10.  , 19.75, 29.5 , 39.25, 49.  ])"
      ]
     },
     "execution_count": 63,
     "metadata": {},
     "output_type": "execute_result"
    }
   ],
   "source": [
    "b = np.linspace(10,49,5)\n",
    "\n",
    "b"
   ]
  },
  {
   "cell_type": "markdown",
   "id": "ad10e1f8",
   "metadata": {},
   "source": [
    "Write a NumPy program to create a vector with values from 0 to 20 and change the sign of the numbers in the range from 9 to 15."
   ]
  },
  {
   "cell_type": "code",
   "execution_count": 72,
   "id": "9285e245",
   "metadata": {},
   "outputs": [
    {
     "data": {
      "text/plain": [
       "array([  0,   1,   2,   3,   4,   5,   6,   7,   8,   9, -10, -11, -12,\n",
       "       -13, -14, -15,  16,  17,  18,  19,  20])"
      ]
     },
     "execution_count": 72,
     "metadata": {},
     "output_type": "execute_result"
    }
   ],
   "source": [
    "c = np.arange(21)\n",
    "\n",
    "c[(c>9) & (c<16)]*= -1\n",
    "\n",
    "c"
   ]
  },
  {
   "cell_type": "markdown",
   "id": "22f4aaaa",
   "metadata": {},
   "source": [
    "Write a NumPy program to create a vector of length 5 filled with arbitrary integers from 0 to 10."
   ]
  },
  {
   "cell_type": "code",
   "execution_count": 82,
   "id": "ca8a1a13",
   "metadata": {},
   "outputs": [
    {
     "data": {
      "text/plain": [
       "array([7, 7, 6, 2, 1])"
      ]
     },
     "execution_count": 82,
     "metadata": {},
     "output_type": "execute_result"
    }
   ],
   "source": [
    "d = np.random.randint(0,10,5)\n",
    "\n",
    "d"
   ]
  },
  {
   "cell_type": "markdown",
   "id": "6caaf76a",
   "metadata": {},
   "source": [
    "Write a NumPy program to multiply the values of two given vectors"
   ]
  },
  {
   "cell_type": "code",
   "execution_count": 83,
   "id": "273308be",
   "metadata": {},
   "outputs": [
    {
     "data": {
      "text/plain": [
       "array([6., 6., 6., 6., 6.])"
      ]
     },
     "execution_count": 83,
     "metadata": {},
     "output_type": "execute_result"
    }
   ],
   "source": [
    "a = np.ones(5)*3\n",
    "b = np.ones(5)*2\n",
    "\n",
    "c = a*b\n",
    "\n",
    "c"
   ]
  },
  {
   "cell_type": "markdown",
   "id": "9a3a318f",
   "metadata": {},
   "source": [
    "Write a NumPy program to create a 3x4 matrix filled with values from 10 to 21."
   ]
  },
  {
   "cell_type": "code",
   "execution_count": 86,
   "id": "d6d4fafe",
   "metadata": {},
   "outputs": [
    {
     "data": {
      "text/plain": [
       "array([[10, 11, 12, 13],\n",
       "       [14, 15, 16, 17],\n",
       "       [18, 19, 20, 21]])"
      ]
     },
     "execution_count": 86,
     "metadata": {},
     "output_type": "execute_result"
    }
   ],
   "source": [
    "ab = np.arange(10,22).reshape(3,4)\n",
    "\n",
    "ab"
   ]
  },
  {
   "cell_type": "markdown",
   "id": "c731c75d",
   "metadata": {},
   "source": [
    "Write a NumPy program to find the number of rows and columns in a given matrix."
   ]
  },
  {
   "cell_type": "code",
   "execution_count": 87,
   "id": "fdd3a5c6",
   "metadata": {},
   "outputs": [
    {
     "data": {
      "text/plain": [
       "(3, 4)"
      ]
     },
     "execution_count": 87,
     "metadata": {},
     "output_type": "execute_result"
    }
   ],
   "source": [
    "ab.shape"
   ]
  },
  {
   "cell_type": "markdown",
   "id": "656d2a43",
   "metadata": {},
   "source": [
    "Write a NumPy program to create a 3x3 identity matrix, i.e. the diagonal elements are 1, the rest are 0"
   ]
  },
  {
   "cell_type": "code",
   "execution_count": 94,
   "id": "efef5da0",
   "metadata": {},
   "outputs": [
    {
     "data": {
      "text/plain": [
       "array([[1., 0., 0.],\n",
       "       [0., 1., 0.],\n",
       "       [0., 0., 1.]])"
      ]
     },
     "execution_count": 94,
     "metadata": {},
     "output_type": "execute_result"
    }
   ],
   "source": [
    "ac = np.identity(3)\n",
    "# ac = np.eye(3)\n",
    "\n",
    "\n",
    "ac"
   ]
  },
  {
   "cell_type": "markdown",
   "id": "5e54eafe",
   "metadata": {},
   "source": [
    "Write a NumPy program to create a 10x10 matrix, in which the elements on the borders will be equal to 1, and inside 0"
   ]
  },
  {
   "cell_type": "code",
   "execution_count": 109,
   "id": "b19deeb6",
   "metadata": {},
   "outputs": [
    {
     "data": {
      "text/plain": [
       "array([[1., 1., 1., 1., 1., 1., 1., 1., 1., 1.],\n",
       "       [1., 0., 0., 0., 0., 0., 0., 0., 0., 1.],\n",
       "       [1., 0., 0., 0., 0., 0., 0., 0., 0., 1.],\n",
       "       [1., 0., 0., 0., 0., 0., 0., 0., 0., 1.],\n",
       "       [1., 0., 0., 0., 0., 0., 0., 0., 0., 1.],\n",
       "       [1., 0., 0., 0., 0., 0., 0., 0., 0., 1.],\n",
       "       [1., 0., 0., 0., 0., 0., 0., 0., 0., 1.],\n",
       "       [1., 0., 0., 0., 0., 0., 0., 0., 0., 1.],\n",
       "       [1., 0., 0., 0., 0., 0., 0., 0., 0., 1.],\n",
       "       [1., 1., 1., 1., 1., 1., 1., 1., 1., 1.]])"
      ]
     },
     "execution_count": 109,
     "metadata": {},
     "output_type": "execute_result"
    }
   ],
   "source": [
    "absrs = np.ones((10,10))\n",
    "\n",
    "absrs[1:-1,1:-1] = 0\n",
    "\n",
    "absrs"
   ]
  },
  {
   "cell_type": "markdown",
   "id": "5dfa6757",
   "metadata": {},
   "source": [
    "Write a NumPy program to create a 5x5 zero matrix with elements on the main diagonal equal to 1, 2, 3, 4, 5."
   ]
  },
  {
   "cell_type": "code",
   "execution_count": 115,
   "id": "3b472a60",
   "metadata": {},
   "outputs": [
    {
     "data": {
      "text/plain": [
       "array([[1, 0, 0, 0, 0],\n",
       "       [0, 2, 0, 0, 0],\n",
       "       [0, 0, 3, 0, 0],\n",
       "       [0, 0, 0, 4, 0],\n",
       "       [0, 0, 0, 0, 5]])"
      ]
     },
     "execution_count": 115,
     "metadata": {},
     "output_type": "execute_result"
    }
   ],
   "source": [
    "absd = np.diag([1,2,3,4,5])\n",
    "\n",
    "absd"
   ]
  },
  {
   "cell_type": "markdown",
   "id": "7da87581",
   "metadata": {},
   "source": [
    "Write a NumPy program to create a 4x4 matrix in which 0 and 1 are staggered, with zeros on the main diagonal"
   ]
  },
  {
   "cell_type": "code",
   "execution_count": 120,
   "id": "dd1cbc67",
   "metadata": {},
   "outputs": [
    {
     "data": {
      "text/plain": [
       "array([[0., 1., 0., 1.],\n",
       "       [1., 0., 1., 0.],\n",
       "       [0., 1., 0., 1.],\n",
       "       [1., 0., 1., 0.]])"
      ]
     },
     "execution_count": 120,
     "metadata": {},
     "output_type": "execute_result"
    }
   ],
   "source": [
    "absddd = np.zeros((4,4))\n",
    "\n",
    "absddd[::2,1::2] = 1\n",
    "absddd[1::2,::2] = 1\n",
    "\n",
    "absddd"
   ]
  },
  {
   "cell_type": "markdown",
   "id": "7767ea57",
   "metadata": {},
   "source": [
    "Write a NumPy program to create a 3x3x3 array filled with arbitrary values"
   ]
  },
  {
   "cell_type": "code",
   "execution_count": 123,
   "id": "162c8755",
   "metadata": {},
   "outputs": [
    {
     "data": {
      "text/plain": [
       "array([[[0.23158578, 0.2012794 , 0.5094539 ],\n",
       "        [0.46471249, 0.69557837, 0.86502457],\n",
       "        [0.53380074, 0.63679606, 0.20860599]],\n",
       "\n",
       "       [[0.95033839, 0.74736413, 0.75316572],\n",
       "        [0.50662467, 0.0031585 , 0.77445752],\n",
       "        [0.72413026, 0.16185917, 0.16978948]],\n",
       "\n",
       "       [[0.83126226, 0.20595679, 0.58872329],\n",
       "        [0.05472899, 0.60096544, 0.32099254],\n",
       "        [0.14631393, 0.94081346, 0.97655585]]])"
      ]
     },
     "execution_count": 123,
     "metadata": {},
     "output_type": "execute_result"
    }
   ],
   "source": [
    "abc = np.random.random((3,3,3))\n",
    "\n",
    "abc"
   ]
  },
  {
   "cell_type": "markdown",
   "id": "3d50b75c",
   "metadata": {},
   "source": [
    "Write a NumPy program to compute the sum of all elements, the sum of each column and the sum of each row in a given array."
   ]
  },
  {
   "cell_type": "code",
   "execution_count": 127,
   "id": "2e30dcf7",
   "metadata": {},
   "outputs": [
    {
     "name": "stdout",
     "output_type": "stream",
     "text": [
      "[[0 1]\n",
      " [2 3]]\n",
      "6\n",
      "[1 5]\n",
      "[2 4]\n"
     ]
    }
   ],
   "source": [
    "abd = np.array([[0,1],[2,3]])\n",
    "\n",
    "print(abd)\n",
    "\n",
    "print(np.sum(abd))\n",
    "print(np.sum(abd,axis=1))\n",
    "print(np.sum(abd,axis=0))"
   ]
  },
  {
   "cell_type": "markdown",
   "id": "64b7e698",
   "metadata": {},
   "source": [
    "Write a NumPy program to compute the inner product of two given vectors"
   ]
  },
  {
   "cell_type": "code",
   "execution_count": 129,
   "id": "7d827151",
   "metadata": {},
   "outputs": [
    {
     "data": {
      "text/plain": [
       "3"
      ]
     },
     "execution_count": 129,
     "metadata": {},
     "output_type": "execute_result"
    }
   ],
   "source": [
    "np.dot(abd[0],abd[1])"
   ]
  },
  {
   "cell_type": "code",
   "execution_count": null,
   "id": "ef56f06c",
   "metadata": {},
   "outputs": [],
   "source": []
  },
  {
   "cell_type": "code",
   "execution_count": null,
   "id": "de449015",
   "metadata": {},
   "outputs": [],
   "source": []
  }
 ],
 "metadata": {
  "kernelspec": {
   "display_name": "Python 3 (ipykernel)",
   "language": "python",
   "name": "python3"
  },
  "language_info": {
   "codemirror_mode": {
    "name": "ipython",
    "version": 3
   },
   "file_extension": ".py",
   "mimetype": "text/x-python",
   "name": "python",
   "nbconvert_exporter": "python",
   "pygments_lexer": "ipython3",
   "version": "3.9.13"
  }
 },
 "nbformat": 4,
 "nbformat_minor": 5
}
