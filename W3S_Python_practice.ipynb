{
 "cells": [
  {
   "cell_type": "markdown",
   "id": "a8dc4dd7",
   "metadata": {},
   "source": [
    "Write a Python program to print the following string in a specific format (see the output)."
   ]
  },
  {
   "cell_type": "code",
   "execution_count": 1,
   "id": "2aafe8ef",
   "metadata": {},
   "outputs": [
    {
     "name": "stdout",
     "output_type": "stream",
     "text": [
      "Twinkle, twinkle, little star,\n",
      " \t How I wonder what you are! \n",
      " \t \t Up above the world so high, \n",
      " \t \t Like a diamond in the sky. \n",
      "Twinkle, twinkle, little star, \n",
      " \t How I wonder what you are\n"
     ]
    }
   ],
   "source": [
    "print(\"Twinkle, twinkle, little star,\\n \\t How I wonder what you are! \\n \\t \\t Up above the world so high, \\n \\t \\t Like a diamond in the sky. \\nTwinkle, twinkle, little star, \\n \\t How I wonder what you are\")\n"
   ]
  },
  {
   "cell_type": "markdown",
   "id": "fbdcf252",
   "metadata": {},
   "source": [
    "Write a Python program to find out what version of Python you are using."
   ]
  },
  {
   "cell_type": "code",
   "execution_count": 2,
   "id": "23232a3b",
   "metadata": {},
   "outputs": [
    {
     "name": "stdout",
     "output_type": "stream",
     "text": [
      "3.10.9\n"
     ]
    }
   ],
   "source": [
    "import platform\n",
    "print(platform.python_version())"
   ]
  },
  {
   "cell_type": "markdown",
   "id": "1ab342e0",
   "metadata": {},
   "source": [
    "Write a Python program to display the current date and time"
   ]
  },
  {
   "cell_type": "code",
   "execution_count": 3,
   "id": "0c063c22",
   "metadata": {},
   "outputs": [
    {
     "name": "stdout",
     "output_type": "stream",
     "text": [
      "2023-07-14 12:50:17\n"
     ]
    }
   ],
   "source": [
    "import datetime\n",
    "now = datetime.datetime.now()\n",
    "print(now.strftime(\"%Y-%m-%d %H:%M:%S\"))"
   ]
  },
  {
   "cell_type": "markdown",
   "id": "412b237c",
   "metadata": {},
   "source": [
    "Write a Python program that calculates the area of a circle based on the radius entered by the user."
   ]
  },
  {
   "cell_type": "code",
   "execution_count": 4,
   "id": "64fec266",
   "metadata": {},
   "outputs": [
    {
     "name": "stdout",
     "output_type": "stream",
     "text": [
      "Enter the Radius :1\n",
      "The Area of circle is 3.141592653589793\n"
     ]
    }
   ],
   "source": [
    "import math\n",
    "r = float(input(\"Enter the Radius :\"))\n",
    "area_of_circle = math.pi*r*r\n",
    "print(f\"The Area of circle is {area_of_circle}\")"
   ]
  },
  {
   "cell_type": "markdown",
   "id": "471925e6",
   "metadata": {},
   "source": [
    "Write a Python program that accepts the user's first and last name and prints them in reverse order with a space between them."
   ]
  },
  {
   "cell_type": "code",
   "execution_count": 5,
   "id": "b28aaf78",
   "metadata": {},
   "outputs": [
    {
     "name": "stdout",
     "output_type": "stream",
     "text": [
      "Enter Your First Name : 1\n",
      "Enter your last Name : 1\n",
      "Hello 1 1\n"
     ]
    }
   ],
   "source": [
    "first_name = input(\"Enter Your First Name : \")\n",
    "last_name = input(\"Enter your last Name : \")\n",
    "\n",
    "print(f\"Hello {last_name} {first_name}\")"
   ]
  },
  {
   "cell_type": "markdown",
   "id": "40b5fa1c",
   "metadata": {},
   "source": [
    "Write a Python program that accepts a sequence of comma-separated numbers from the user and generates a list and a tuple of those numbers."
   ]
  },
  {
   "cell_type": "code",
   "execution_count": 6,
   "id": "aa34a47a",
   "metadata": {},
   "outputs": [
    {
     "name": "stdout",
     "output_type": "stream",
     "text": [
      "Enter the numbers1\n",
      "['1']\n",
      "('1',)\n"
     ]
    }
   ],
   "source": [
    "user_input = input(\"Enter the numbers\")\n",
    "\n",
    "new_list = user_input.split(\",\")\n",
    "new_tuple = tuple(new_list)\n",
    "\n",
    "print(new_list)\n",
    "print(new_tuple)"
   ]
  },
  {
   "cell_type": "markdown",
   "id": "ecb92ba3",
   "metadata": {},
   "source": [
    "Write a Python program that accepts a filename from the user and prints the extension of the file"
   ]
  },
  {
   "cell_type": "code",
   "execution_count": 7,
   "id": "dd8b812d",
   "metadata": {},
   "outputs": [
    {
     "name": "stdout",
     "output_type": "stream",
     "text": [
      "Enter your File name: 1\n",
      "The extension is 1\n"
     ]
    }
   ],
   "source": [
    "file_name = input(\"Enter your File name: \")\n",
    "file_ext = file_name.split(\".\")\n",
    "\n",
    "print(f\"The extension is {file_ext[-1]}\")"
   ]
  },
  {
   "cell_type": "markdown",
   "id": "5acaed3a",
   "metadata": {},
   "source": [
    "Write a Python program to display the first and last colors from the following list.\n",
    "color_list = [\"Red\",\"Green\",\"White\" ,\"Black\"]"
   ]
  },
  {
   "cell_type": "code",
   "execution_count": 8,
   "id": "b5889575",
   "metadata": {},
   "outputs": [
    {
     "name": "stdout",
     "output_type": "stream",
     "text": [
      "Red Black\n"
     ]
    }
   ],
   "source": [
    "color_list = [\"Red\",\"Green\",\"White\" ,\"Black\"]\n",
    "\n",
    "print(color_list[0],color_list[-1])"
   ]
  },
  {
   "cell_type": "markdown",
   "id": "0f12d1a1",
   "metadata": {},
   "source": [
    "Write a Python program to display the examination schedule. (extract the date from exam_st_date).\n"
   ]
  },
  {
   "cell_type": "code",
   "execution_count": 9,
   "id": "9727f119",
   "metadata": {},
   "outputs": [
    {
     "name": "stdout",
     "output_type": "stream",
     "text": [
      "The examination will start from : 11 / 12 / 2014\n",
      "The examination will start from : 11 / 12 / 2014\n"
     ]
    }
   ],
   "source": [
    "exam_st_date = (11, 12, 2014)\n",
    "\n",
    "# exam_date = to_date(exam_st_date)\n",
    "\n",
    "print( \"The examination will start from : %i / %i / %i\"%exam_st_date)\n",
    "\n",
    "print(f\"The examination will start from : {exam_st_date[0]} / {exam_st_date[1]} / {exam_st_date[2]}\")"
   ]
  },
  {
   "cell_type": "markdown",
   "id": "5c72db7c",
   "metadata": {},
   "source": [
    "Write a Python program that accepts an integer (n) and computes the value of n+nn+nnn."
   ]
  },
  {
   "cell_type": "code",
   "execution_count": 10,
   "id": "17814e49",
   "metadata": {},
   "outputs": [
    {
     "name": "stdout",
     "output_type": "stream",
     "text": [
      "Enter the number: 1\n",
      "6\n"
     ]
    }
   ],
   "source": [
    "a = int(input(\"Enter the number: \"))\n",
    "\n",
    "n1 = a\n",
    "n2 = a+a\n",
    "n3 = a+a+a\n",
    "\n",
    "\n",
    "print(n1+n2+n3)"
   ]
  },
  {
   "cell_type": "code",
   "execution_count": 11,
   "id": "a903ac42",
   "metadata": {},
   "outputs": [
    {
     "name": "stdout",
     "output_type": "stream",
     "text": [
      "Enter the number :1\n",
      "0\n",
      "* \n",
      "* * \n",
      "* * * \n",
      "* * * * \n",
      "* * * * * \n",
      "* * * * * * \n"
     ]
    }
   ],
   "source": [
    "n = int(input(\"Enter the number :\"))\n",
    "m = 0\n",
    "\n",
    "\n",
    "for i in range(1,n):\n",
    "    for j in range(0,i):        \n",
    "        print(n, end = \" \")\n",
    "        m+=n\n",
    "    print()\n",
    "print(m)\n",
    "\n",
    "\n",
    "for i in range(1,7):\n",
    "    for j in range(0,i):\n",
    "        print(\"*\",end=\" \")\n",
    "    print()"
   ]
  },
  {
   "cell_type": "markdown",
   "id": "e3416056",
   "metadata": {},
   "source": [
    "Write a Python program to print the documents (syntax, description etc.) of Python built-in function(s)."
   ]
  },
  {
   "cell_type": "code",
   "execution_count": 12,
   "id": "dfb90163",
   "metadata": {},
   "outputs": [
    {
     "name": "stdout",
     "output_type": "stream",
     "text": [
      "Return the absolute value of the argument.\n"
     ]
    }
   ],
   "source": [
    "print(abs.__doc__)"
   ]
  },
  {
   "cell_type": "markdown",
   "id": "0dc5ebe4",
   "metadata": {},
   "source": [
    "Write a Python program that prints the calendar for a given month and year.\n",
    "Note : Use 'calendar' module."
   ]
  },
  {
   "cell_type": "code",
   "execution_count": 13,
   "id": "a21797dc",
   "metadata": {},
   "outputs": [
    {
     "name": "stdout",
     "output_type": "stream",
     "text": [
      "Enter the Year : 1\n",
      "Enter the month : 1\n",
      "     January 1\n",
      "Mo Tu We Th Fr Sa Su\n",
      " 1  2  3  4  5  6  7\n",
      " 8  9 10 11 12 13 14\n",
      "15 16 17 18 19 20 21\n",
      "22 23 24 25 26 27 28\n",
      "29 30 31\n",
      "\n"
     ]
    }
   ],
   "source": [
    "import calendar\n",
    "\n",
    "y = int(input(\"Enter the Year : \"))\n",
    "m = int(input(\"Enter the month : \"))\n",
    "\n",
    "print(calendar.month(y,m))"
   ]
  },
  {
   "cell_type": "markdown",
   "id": "5184b2fd",
   "metadata": {},
   "source": [
    "Write a Python program to print the following 'here document'."
   ]
  },
  {
   "cell_type": "code",
   "execution_count": 14,
   "id": "b951a37a",
   "metadata": {},
   "outputs": [
    {
     "name": "stdout",
     "output_type": "stream",
     "text": [
      "a string that you \"don't\" have to escape\n",
      "This\n",
      "is a ....... multi-line\n",
      "heredoc string --------> example\n"
     ]
    }
   ],
   "source": [
    "print('''a string that you \"don't\" have to escape\n",
    "This\n",
    "is a ....... multi-line\n",
    "heredoc string --------> example''')"
   ]
  },
  {
   "cell_type": "markdown",
   "id": "520519b9",
   "metadata": {},
   "source": [
    "Write a Python program to calculate the number of days between two dates."
   ]
  },
  {
   "cell_type": "code",
   "execution_count": 15,
   "id": "f4c45094",
   "metadata": {},
   "outputs": [
    {
     "ename": "NameError",
     "evalue": "name 'date' is not defined",
     "output_type": "error",
     "traceback": [
      "\u001b[1;31m---------------------------------------------------------------------------\u001b[0m",
      "\u001b[1;31mNameError\u001b[0m                                 Traceback (most recent call last)",
      "Cell \u001b[1;32mIn[15], line 3\u001b[0m\n\u001b[0;32m      1\u001b[0m \u001b[38;5;28;01mimport\u001b[39;00m \u001b[38;5;21;01mdatetime\u001b[39;00m\n\u001b[1;32m----> 3\u001b[0m d1 \u001b[38;5;241m=\u001b[39m \u001b[43mdate\u001b[49m(\u001b[38;5;241m2017\u001b[39m,\u001b[38;5;241m9\u001b[39m,\u001b[38;5;241m1\u001b[39m)\n\u001b[0;32m      4\u001b[0m d2 \u001b[38;5;241m=\u001b[39m date(\u001b[38;5;241m2017\u001b[39m,\u001b[38;5;241m12\u001b[39m,\u001b[38;5;241m1\u001b[39m)\n\u001b[0;32m      6\u001b[0m delta \u001b[38;5;241m=\u001b[39m d2\u001b[38;5;241m-\u001b[39md1\n",
      "\u001b[1;31mNameError\u001b[0m: name 'date' is not defined"
     ]
    }
   ],
   "source": [
    "import datetime\n",
    "\n",
    "d1 = date(2017,9,1)\n",
    "d2 = date(2017,12,1)\n",
    "\n",
    "delta = d2-d1\n",
    "print(delta.days)"
   ]
  },
  {
   "cell_type": "markdown",
   "id": "45f9b4da",
   "metadata": {},
   "source": [
    "Write a Python program to get the volume of a sphere with radius six"
   ]
  },
  {
   "cell_type": "code",
   "execution_count": null,
   "id": "7bd93fba",
   "metadata": {},
   "outputs": [],
   "source": [
    "import math\n",
    "r = 6\n",
    "\n",
    "volumn = 4/3*math.pi*r**3\n",
    "\n",
    "print(f\"The volume of the sphere is: {volumn}\")\n"
   ]
  },
  {
   "cell_type": "markdown",
   "id": "e86b1fe4",
   "metadata": {},
   "source": [
    "Write a Python program to calculate the difference between a given number and 17. If the number is greater than 17, return twice the absolute difference."
   ]
  },
  {
   "cell_type": "code",
   "execution_count": null,
   "id": "84b2ce4e",
   "metadata": {},
   "outputs": [],
   "source": [
    "num = int(input(\"Enter the number : \"))\n",
    "\n",
    "def diff_rence(n):\n",
    "    \n",
    "    if n < 17 :\n",
    "        return 17 - n\n",
    "    else:\n",
    "        return (n-17) * 2\n",
    "\n",
    "diff_rence(num)\n",
    "\n"
   ]
  },
  {
   "cell_type": "markdown",
   "id": "a79861a0",
   "metadata": {},
   "source": [
    "Write a Python program to test whether a number is within 100 of 1000 or 2000."
   ]
  },
  {
   "cell_type": "code",
   "execution_count": null,
   "id": "0ffc8d54",
   "metadata": {},
   "outputs": [],
   "source": [
    "def near_thousand(num):\n",
    "    \n",
    "    return(abs(1000 - num) <= 100) or (abs(2000 - num) <= 100)\n",
    "\n",
    "num = int(input(\"Enter the number: \"))\n",
    "\n",
    "near_thousand(num)"
   ]
  },
  {
   "cell_type": "markdown",
   "id": "05dd0f72",
   "metadata": {},
   "source": [
    "Write a Python program to calculate the sum of three given numbers. If the values are equal, return three times their sum."
   ]
  },
  {
   "cell_type": "code",
   "execution_count": null,
   "id": "a53270a0",
   "metadata": {},
   "outputs": [],
   "source": [
    "def sum_trice(x,y,z):\n",
    "    \n",
    "    summ = x + y + z\n",
    "    \n",
    "    if x == y == z:\n",
    "        summ = summ*3\n",
    "        return summ\n",
    "    else:\n",
    "        return summ\n",
    "    \n",
    "    \n",
    "sum_trice(1,2,3)"
   ]
  },
  {
   "cell_type": "markdown",
   "id": "93bb1b9f",
   "metadata": {},
   "source": [
    "Write a Python program to get a newly-generated string from a given string where \"Is\" has been added to the front. Return the string unchanged if the given string already begins with \"Is\"."
   ]
  },
  {
   "cell_type": "code",
   "execution_count": null,
   "id": "53467716",
   "metadata": {},
   "outputs": [],
   "source": [
    "def is_string(abc):\n",
    "    \n",
    "    if abc[:2] != \"Is\":\n",
    "        return \"Is\"+abc\n",
    "    else:\n",
    "        return abc\n",
    "\n",
    "abc = str(input(\"Enter: \").title())\n",
    "\n",
    "is_string(abc)\n"
   ]
  },
  {
   "cell_type": "markdown",
   "id": "7eb004d4",
   "metadata": {},
   "source": [
    "Write a Python program that returns a string that is n (non-negative integer) copies of a given string."
   ]
  },
  {
   "cell_type": "code",
   "execution_count": null,
   "id": "e0ccf7b0",
   "metadata": {},
   "outputs": [],
   "source": [
    "def n_copies(abc, n):\n",
    "    \n",
    "    result = \"\"\n",
    "    \n",
    "    for i in range(n):\n",
    "        result = result + abc\n",
    "    return result\n",
    "\n",
    "xyz = \"Hii\"\n",
    "n = 3\n",
    "\n",
    "n_copies(xyz,n)"
   ]
  },
  {
   "cell_type": "markdown",
   "id": "a9aa9c90",
   "metadata": {},
   "source": [
    "Write a Python program that determines whether a given number (accepted from the user) is even or odd, and prints an appropriate message to the user."
   ]
  },
  {
   "cell_type": "code",
   "execution_count": null,
   "id": "cf30265b",
   "metadata": {},
   "outputs": [],
   "source": [
    "def even_odd(num):\n",
    "    \n",
    "    if num == 1 or num <= 0:\n",
    "        return \"Enter valid number\"\n",
    "    elif num % 2 == 0:\n",
    "        return \"Even\"\n",
    "    else:\n",
    "        return \"odd\"\n",
    "    \n",
    "num = int(input(\"Enter the number : \"))\n",
    "\n",
    "\n",
    "even_odd(num)"
   ]
  },
  {
   "cell_type": "markdown",
   "id": "6184054f",
   "metadata": {},
   "source": [
    "Write a Python program to count the number 4 in a given list."
   ]
  },
  {
   "cell_type": "code",
   "execution_count": null,
   "id": "fd625678",
   "metadata": {},
   "outputs": [],
   "source": [
    "def num_4(a):\n",
    "    count = 0\n",
    "    \n",
    "    for i in a:\n",
    "        if i == 4:\n",
    "            count += 1\n",
    "    \n",
    "    return count\n",
    "\n",
    "\n",
    "list1 = [1,2,3,4,65,6,7,4,4]\n",
    "\n",
    "num_4(list1)"
   ]
  },
  {
   "cell_type": "markdown",
   "id": "bdd822f1",
   "metadata": {},
   "source": [
    "Write a Python program to get n (non-negative integer) copies of the first 2 characters of a given string. Return n copies of the whole string if the length is less than 2."
   ]
  },
  {
   "cell_type": "code",
   "execution_count": null,
   "id": "b1ad1aea",
   "metadata": {},
   "outputs": [],
   "source": [
    "def nu_copies(i,n):\n",
    "    for l in i:\n",
    "        if len(i) <= 2:\n",
    "            return i*n\n",
    "        else:\n",
    "            return i[:2]*n\n",
    "        \n",
    "le = \"h\"\n",
    "n = 3\n",
    "\n",
    "nu_copies(le,n)"
   ]
  },
  {
   "cell_type": "markdown",
   "id": "f9de3bcb",
   "metadata": {},
   "source": [
    "Write a Python program to test whether a passed letter is a vowel or not."
   ]
  },
  {
   "cell_type": "code",
   "execution_count": null,
   "id": "cb0337e4",
   "metadata": {},
   "outputs": [],
   "source": [
    "def vowels_func(a):\n",
    "    \n",
    "    vowels = [\"a\",\"e\",\"i\",\"o\",\"u\"]\n",
    "    \n",
    "    for i in vowels:\n",
    "        if a == i:\n",
    "            return \"It's a vowel\"\n",
    "        else:\n",
    "            return \"It's not a vowel\"\n",
    "\n",
    "abc = input(\"Enter a letter :\")\n",
    "\n",
    "vowels_func(abc)"
   ]
  },
  {
   "cell_type": "code",
   "execution_count": null,
   "id": "e322aeb9",
   "metadata": {},
   "outputs": [],
   "source": [
    "def is_vowel(char):\n",
    "    vowels = \"aeiou\"\n",
    "    return char in vowels\n",
    "\n",
    "abc = input(\"Enter a letter :\")\n",
    "\n",
    "is_vowel(abc)"
   ]
  },
  {
   "cell_type": "markdown",
   "id": "5384ccf9",
   "metadata": {},
   "source": [
    "Write a Python program that checks whether a specified value is contained within a group of values.\n",
    "\n",
    "Test Data :\n",
    "3 -> [1, 5, 8, 3] : True\n",
    "-1 -> [1, 5, 8, 3] : False"
   ]
  },
  {
   "cell_type": "code",
   "execution_count": null,
   "id": "31b29ff8",
   "metadata": {},
   "outputs": [],
   "source": [
    "def is_contained(a , n):\n",
    "    return n in a\n",
    "    \n",
    "#     for i in a:\n",
    "#         if n == i:\n",
    "#             return True\n",
    "        \n",
    "\n",
    "        \n",
    "a = [1,3,4,5,2,6]\n",
    "\n",
    "num = int(input(\"Enter the number : \"))\n",
    "\n",
    "\n",
    "is_contained(a,num)"
   ]
  },
  {
   "cell_type": "markdown",
   "id": "d0687ee1",
   "metadata": {},
   "source": [
    "Write a Python program to create a histogram from a given list of integers."
   ]
  },
  {
   "cell_type": "code",
   "execution_count": null,
   "id": "500600bd",
   "metadata": {},
   "outputs": [],
   "source": [
    "a = [2,3,6,5]\n",
    "\n",
    "def histograms_fun(a):\n",
    "    for i in a:\n",
    "        for j in range(0,i):\n",
    "            print(\"*\",end = \"\")\n",
    "        print(\"\")\n",
    "        \n",
    "\n",
    "histograms_fun(a)"
   ]
  },
  {
   "cell_type": "markdown",
   "id": "b7441a76",
   "metadata": {},
   "source": [
    "Write a Python program that concatenates all elements in a list into a string and returns it."
   ]
  },
  {
   "cell_type": "code",
   "execution_count": null,
   "id": "5626bd42",
   "metadata": {},
   "outputs": [],
   "source": [
    "abc = [2,3,6,5]\n",
    "\n",
    "def concatenate_func(a):\n",
    "    new =\"\"\n",
    "    for i in a:\n",
    "        new += str(i)\n",
    "    return new\n",
    "\n",
    "concatenate_func(abc)\n"
   ]
  },
  {
   "cell_type": "markdown",
   "id": "508c6542",
   "metadata": {},
   "source": [
    "Write a Python program to print all even numbers from a given list of numbers in the same order and stop printing any after 237 in the sequence.\n",
    "Sample numbers list :\n",
    "\n",
    "numbers = [\n",
    "    386, 462, 47, 418, 907, 344, 236, 375, 823, 566, 597, 978, 328, 615, 953, 345, \n",
    "    399, 162, 758, 219, 918, 237, 412, 566, 826, 248, 866, 950, 626, 949, 687, 217, \n",
    "    815, 67, 104, 58, 512, 24, 892, 894, 767, 553, 81, 379, 843, 831, 445, 742, 717, \n",
    "    958,743, 527\n",
    "    ]"
   ]
  },
  {
   "cell_type": "code",
   "execution_count": null,
   "id": "72d3bc8c",
   "metadata": {},
   "outputs": [],
   "source": [
    "def even_num(a):\n",
    "    for i in a:\n",
    "        if i == 237:\n",
    "            return\n",
    "        elif i%2 == 0:\n",
    "            print(i)\n",
    "        \n",
    "numbers = [ 386, 462, 47, 418, 907, 344, 236, 375, 823, 566, 597, 978, 328, 615, 953, 345, 399, 162, 758, 219, 918, 237, 412, 566, 826, 248, 866, 950, 626, 949, 687, 217, 815, 67, 104, 58, 512, 24, 892, 894, 767, 553, 81, 379, 843, 831, 445, 742, 717, 958,743, 527 ]\n",
    "\n",
    "\n",
    "even_num(numbers)"
   ]
  },
  {
   "cell_type": "markdown",
   "id": "aa380097",
   "metadata": {},
   "source": [
    "Write a Python program that prints out all colors from color_list_1 that are not present in color_list_2.\n",
    "Test Data :\n",
    "color_list_1 = set([\"White\", \"Black\", \"Red\"])\n",
    "color_list_2 = set([\"Red\", \"Green\"])\n",
    "Expected Output :\n",
    "{'Black', 'White'}"
   ]
  },
  {
   "cell_type": "code",
   "execution_count": null,
   "id": "891ed46b",
   "metadata": {},
   "outputs": [],
   "source": [
    "colour_list_1 = set([\"White\", \"Black\", \"Red\"])\n",
    "colour_list_2 = set([\"Red\", \"Green\"])\n",
    "\n",
    "\n",
    "print(colour_list_1.difference(colour_list_2))\n",
    "print(colour_list_2.difference(colour_list_1))\n"
   ]
  },
  {
   "cell_type": "markdown",
   "id": "90a2d235",
   "metadata": {},
   "source": [
    "Write a Python program that will accept the base and height of a triangle and compute its area"
   ]
  },
  {
   "cell_type": "code",
   "execution_count": null,
   "id": "6bb516b5",
   "metadata": {},
   "outputs": [],
   "source": [
    "def area_of_triangle(b,h):\n",
    "    \n",
    "    a = (b * h)/2\n",
    "    print(\"Area of the triangle :\",a)\n",
    "\n",
    "b = int(input(\"Enter the Base :\"))\n",
    "h = int(input(\"Enter the Height :\"))\n",
    "\n",
    "area_of_triangle(b,h)"
   ]
  },
  {
   "cell_type": "markdown",
   "id": "09fd0388",
   "metadata": {},
   "source": [
    "Write a Python program to sum three given integers. However, if two values are equal, the sum will be zero."
   ]
  },
  {
   "cell_type": "code",
   "execution_count": null,
   "id": "3c74e5b0",
   "metadata": {},
   "outputs": [],
   "source": [
    "def sum_fun(a,b,c):\n",
    "    \n",
    "    if a == b or b == c or c == a:\n",
    "        return 0\n",
    "    else:\n",
    "        return a+b+c\n",
    "    \n",
    "sum_fun(4,3,2)"
   ]
  },
  {
   "cell_type": "markdown",
   "id": "653c2a85",
   "metadata": {},
   "source": [
    "Write a Python program to sum two given integers. However, if the sum is between 15 and 20 it will return 20"
   ]
  },
  {
   "cell_type": "code",
   "execution_count": null,
   "id": "064f1426",
   "metadata": {},
   "outputs": [],
   "source": [
    "def sum_fun(a,b):\n",
    "    \n",
    "    sum = a+b\n",
    "#     if sum >= 15 and sum <= 20:\n",
    "#         return 20\n",
    "#     else:\n",
    "#         return sum\n",
    " \n",
    "    if sum in range(15,20):\n",
    "        return 20\n",
    "    else:\n",
    "        return sum\n",
    "\n",
    "\n",
    "sum_fun(15,3)"
   ]
  },
  {
   "cell_type": "markdown",
   "id": "d6674205",
   "metadata": {},
   "source": [
    "Write a Python program that returns true if the two given integer values are equal or their sum or difference is 5."
   ]
  },
  {
   "cell_type": "code",
   "execution_count": null,
   "id": "764d2abe",
   "metadata": {},
   "outputs": [],
   "source": [
    "def sed_fun(a,b):\n",
    "\n",
    "#     if a+b == 5 or a-b == 5 or b-a == 5 or a == b:\n",
    "#         return\n",
    "    \n",
    "      return a+b == 5 or a-b == 5 or b-a == 5 or a == b\n",
    "         \n",
    "\n",
    "sed_fun(1,4)"
   ]
  },
  {
   "cell_type": "markdown",
   "id": "a1ea8105",
   "metadata": {},
   "source": [
    "Write a Python program to add two objects if both objects are integers."
   ]
  },
  {
   "cell_type": "code",
   "execution_count": null,
   "id": "35d3468c",
   "metadata": {},
   "outputs": [],
   "source": [
    "def new_func(a,b):\n",
    "    \n",
    "    if isinstance(a, int) and isinstance(b,int) :\n",
    "        return a+b\n",
    "    else:\n",
    "        return \"Inputs must be integers!\"\n",
    "    \n",
    "new_func(2,\"a\")"
   ]
  },
  {
   "cell_type": "markdown",
   "id": "a5670728",
   "metadata": {},
   "source": [
    "Write a Python program that displays your name, age, and address on three different lines."
   ]
  },
  {
   "cell_type": "code",
   "execution_count": null,
   "id": "47b1e9ee",
   "metadata": {},
   "outputs": [],
   "source": [
    "def func_36(a,b,c):\n",
    "    \n",
    "     print(f\"Name: {a}\\nAge: {b}\\nAddress: {c}\")\n",
    "\n",
    "name = \"Rakesh\"\n",
    "age = 25\n",
    "address = \"Mumbai\"\n",
    "\n",
    "func_36(name,age,address)"
   ]
  },
  {
   "cell_type": "markdown",
   "id": "1931ac13",
   "metadata": {},
   "source": [
    "38. Write a Python program to solve (x + y) * (x + y).\n",
    "Test Data : x = 4, y = 3\n",
    "Expected Output : (4 + 3) ^ 2) = 49"
   ]
  },
  {
   "cell_type": "code",
   "execution_count": null,
   "id": "0220cd17",
   "metadata": {},
   "outputs": [],
   "source": [
    "def func_38(x,y):\n",
    "    \n",
    "    ans = (x + y)**2\n",
    "    print(f\"({x} + {y}) ^ 2) = {ans}\")\n",
    "    return ans\n",
    "\n",
    "    \n",
    "\n",
    "func_38(4,3)"
   ]
  },
  {
   "cell_type": "markdown",
   "id": "6c9c437c",
   "metadata": {},
   "source": [
    "Write a Python program to calculate the distance between the points (x1, y1) and (x2, y2)."
   ]
  },
  {
   "cell_type": "code",
   "execution_count": null,
   "id": "ca7f110b",
   "metadata": {},
   "outputs": [],
   "source": [
    "import math\n",
    "\n",
    "def distance_9(x1,x2,y1,y2):\n",
    "    \n",
    "    d = math.sqrt(((x2 - x1)**2) + ((y2 - y1)**2))\n",
    "    return d\n",
    "\n",
    "x1 = 4\n",
    "x2 = 5\n",
    "y1 = 5\n",
    "y2 = 8\n",
    "\n",
    "distance_9(x1,x2,y1,y2)\n",
    "\n",
    "\n",
    "    "
   ]
  },
  {
   "cell_type": "markdown",
   "id": "951db340",
   "metadata": {},
   "source": [
    "Write a Python program to check whether a file exists."
   ]
  },
  {
   "cell_type": "code",
   "execution_count": null,
   "id": "c999e280",
   "metadata": {},
   "outputs": [],
   "source": []
  },
  {
   "cell_type": "code",
   "execution_count": null,
   "id": "17675e74",
   "metadata": {},
   "outputs": [],
   "source": []
  },
  {
   "cell_type": "code",
   "execution_count": null,
   "id": "405a15df",
   "metadata": {},
   "outputs": [],
   "source": []
  },
  {
   "cell_type": "markdown",
   "id": "71cf0780",
   "metadata": {},
   "source": []
  }
 ],
 "metadata": {
  "kernelspec": {
   "display_name": "Python 3 (ipykernel)",
   "language": "python",
   "name": "python3"
  },
  "language_info": {
   "codemirror_mode": {
    "name": "ipython",
    "version": 3
   },
   "file_extension": ".py",
   "mimetype": "text/x-python",
   "name": "python",
   "nbconvert_exporter": "python",
   "pygments_lexer": "ipython3",
   "version": "3.10.9"
  }
 },
 "nbformat": 4,
 "nbformat_minor": 5
}
