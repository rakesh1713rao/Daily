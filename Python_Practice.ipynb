{
 "cells": [
  {
   "cell_type": "code",
   "execution_count": 1,
   "id": "4ef78e3a",
   "metadata": {},
   "outputs": [
    {
     "data": {
      "text/plain": [
       "'This too is a\\nmultiple line comment'"
      ]
     },
     "execution_count": 1,
     "metadata": {},
     "output_type": "execute_result"
    }
   ],
   "source": [
    "#This is the first comment\n",
    "## THis is the first comment \n",
    "\n",
    "\"\"\" This is also a \n",
    "perfect example of \n",
    "multi-line comments\"\"\"\n",
    "\n",
    "'''This too is a\n",
    "multiple line comment'''"
   ]
  },
  {
   "cell_type": "code",
   "execution_count": 2,
   "id": "5c73a71d",
   "metadata": {},
   "outputs": [],
   "source": [
    "# Variable assignments\n",
    "\n",
    "a=10\n",
    "b=20\n",
    "a=5; d=10 #MULTIPLE STATEMENT IN A SINGLE LINE\n",
    "b,c = 3.2,\"Hello\"  # multiple variable in a single statement\n",
    "x=y=z=\"world\" #multiple variable with a single value\n"
   ]
  },
  {
   "cell_type": "code",
   "execution_count": 3,
   "id": "751183c4",
   "metadata": {},
   "outputs": [
    {
     "name": "stdout",
     "output_type": "stream",
     "text": [
      "Hello\n",
      "\n",
      "value of a 5\n",
      "Value of a= \n",
      " 5\n",
      "3.2 Hello\n",
      "3.2@Hello\n"
     ]
    },
    {
     "data": {
      "text/plain": [
       "'Hello'"
      ]
     },
     "execution_count": 3,
     "metadata": {},
     "output_type": "execute_result"
    }
   ],
   "source": [
    "#Displaying the value stored in variables\n",
    "\n",
    "print(c)\n",
    "print()\n",
    "print(\"value of a\",a)\n",
    "print(\"Value of a= \\n\",a)\n",
    "print(b,c)\n",
    "print(b,c,sep=\"@\")\n",
    "c"
   ]
  },
  {
   "cell_type": "code",
   "execution_count": 4,
   "id": "19847764",
   "metadata": {},
   "outputs": [],
   "source": [
    "name=\"Rakesh\""
   ]
  },
  {
   "cell_type": "code",
   "execution_count": 5,
   "id": "b9ead2bd",
   "metadata": {},
   "outputs": [],
   "source": [
    "age = 1"
   ]
  },
  {
   "cell_type": "code",
   "execution_count": 6,
   "id": "b7301486",
   "metadata": {},
   "outputs": [
    {
     "name": "stdout",
     "output_type": "stream",
     "text": [
      "Rakesh 1\n"
     ]
    }
   ],
   "source": [
    "print(name,age)"
   ]
  },
  {
   "cell_type": "markdown",
   "id": "635c0a37",
   "metadata": {},
   "source": [
    "# Operations on Variable"
   ]
  },
  {
   "cell_type": "code",
   "execution_count": 7,
   "id": "ff0ce4a9",
   "metadata": {},
   "outputs": [
    {
     "name": "stdout",
     "output_type": "stream",
     "text": [
      "8.2\n",
      "16.0\n",
      "6.4\n",
      "2.0\n",
      "0\n",
      "1.7999999999999998\n",
      "25\n"
     ]
    }
   ],
   "source": [
    "# Operations on Variable\n",
    "\n",
    "print(a+b) #a=5, b=3.2\n",
    "print(a*b)\n",
    "div=d/a\n",
    "print(div*b)\n",
    "e=5.8\n",
    "print(e//2)#floored division\n",
    "print(d%a)#modulus division returns the remainder\n",
    "print(a-b)\n",
    "print(a**2) #exponentiation\n",
    "\n",
    "\n"
   ]
  },
  {
   "cell_type": "code",
   "execution_count": 8,
   "id": "2e7c2e36",
   "metadata": {},
   "outputs": [
    {
     "name": "stdout",
     "output_type": "stream",
     "text": [
      "2.9\n"
     ]
    }
   ],
   "source": [
    "print(round(e/2,3))"
   ]
  },
  {
   "cell_type": "code",
   "execution_count": 9,
   "id": "6fb7c61d",
   "metadata": {},
   "outputs": [
    {
     "name": "stdout",
     "output_type": "stream",
     "text": [
      "<class 'float'>\n",
      "8.2\n",
      "53.2\n",
      "<class 'str'>\n"
     ]
    }
   ],
   "source": [
    "#Python does type inferencing automatically\n",
    "a=5\n",
    "b=3.2\n",
    "print(type(b))#returns the datatype of the object\n",
    "print(a+b)\n",
    "\n",
    "a=\"5\"\n",
    "b=\"3.2\"\n",
    "print(a+b) #+ operator will act like a concatenation operator\n",
    "print(type(b))"
   ]
  },
  {
   "cell_type": "code",
   "execution_count": 10,
   "id": "0eaa2486",
   "metadata": {},
   "outputs": [],
   "source": [
    "import math"
   ]
  },
  {
   "cell_type": "code",
   "execution_count": 11,
   "id": "22a7954e",
   "metadata": {},
   "outputs": [
    {
     "name": "stdout",
     "output_type": "stream",
     "text": [
      "5.0\n",
      "5\n",
      "3.141592653589793\n"
     ]
    }
   ],
   "source": [
    "print(math.sqrt(25))\n",
    "print(math.floor(5.876))\n",
    "print(math.pi)"
   ]
  },
  {
   "cell_type": "code",
   "execution_count": 12,
   "id": "eac4719f",
   "metadata": {},
   "outputs": [
    {
     "data": {
      "text/plain": [
       "['__doc__',\n",
       " '__loader__',\n",
       " '__name__',\n",
       " '__package__',\n",
       " '__spec__',\n",
       " 'acos',\n",
       " 'acosh',\n",
       " 'asin',\n",
       " 'asinh',\n",
       " 'atan',\n",
       " 'atan2',\n",
       " 'atanh',\n",
       " 'ceil',\n",
       " 'comb',\n",
       " 'copysign',\n",
       " 'cos',\n",
       " 'cosh',\n",
       " 'degrees',\n",
       " 'dist',\n",
       " 'e',\n",
       " 'erf',\n",
       " 'erfc',\n",
       " 'exp',\n",
       " 'expm1',\n",
       " 'fabs',\n",
       " 'factorial',\n",
       " 'floor',\n",
       " 'fmod',\n",
       " 'frexp',\n",
       " 'fsum',\n",
       " 'gamma',\n",
       " 'gcd',\n",
       " 'hypot',\n",
       " 'inf',\n",
       " 'isclose',\n",
       " 'isfinite',\n",
       " 'isinf',\n",
       " 'isnan',\n",
       " 'isqrt',\n",
       " 'lcm',\n",
       " 'ldexp',\n",
       " 'lgamma',\n",
       " 'log',\n",
       " 'log10',\n",
       " 'log1p',\n",
       " 'log2',\n",
       " 'modf',\n",
       " 'nan',\n",
       " 'nextafter',\n",
       " 'perm',\n",
       " 'pi',\n",
       " 'pow',\n",
       " 'prod',\n",
       " 'radians',\n",
       " 'remainder',\n",
       " 'sin',\n",
       " 'sinh',\n",
       " 'sqrt',\n",
       " 'tan',\n",
       " 'tanh',\n",
       " 'tau',\n",
       " 'trunc',\n",
       " 'ulp']"
      ]
     },
     "execution_count": 12,
     "metadata": {},
     "output_type": "execute_result"
    }
   ],
   "source": [
    "dir(math)    #dir keyword helps to see the directory of a library"
   ]
  },
  {
   "cell_type": "code",
   "execution_count": 13,
   "id": "2bb8d1ca",
   "metadata": {},
   "outputs": [
    {
     "name": "stdout",
     "output_type": "stream",
     "text": [
      "Area of circle with radius 8 is = 201.0619\n"
     ]
    }
   ],
   "source": [
    "r=8\n",
    "area=math.pi*r*r\n",
    "print(\"Area of circle with radius\",r,\"is =\", round(area,4))"
   ]
  },
  {
   "cell_type": "code",
   "execution_count": 14,
   "id": "db67cb22",
   "metadata": {},
   "outputs": [
    {
     "name": "stdout",
     "output_type": "stream",
     "text": [
      "Enter your Name: 1\n"
     ]
    }
   ],
   "source": [
    "# USER Input at runtime\n",
    "name = input(\"Enter your Name: \")"
   ]
  },
  {
   "cell_type": "code",
   "execution_count": 15,
   "id": "33a83bb1",
   "metadata": {},
   "outputs": [
    {
     "name": "stdout",
     "output_type": "stream",
     "text": [
      "Hello 1\n"
     ]
    }
   ],
   "source": [
    "print(\"Hello\",name)"
   ]
  },
  {
   "cell_type": "code",
   "execution_count": 16,
   "id": "b1895c41",
   "metadata": {},
   "outputs": [
    {
     "name": "stdout",
     "output_type": "stream",
     "text": [
      "Enter the radius 1\n",
      "Area of circle with radius 1.0 is =  3.1416\n"
     ]
    }
   ],
   "source": [
    "r=float(input(\"Enter the radius \"))\n",
    "area=math.pi*r*r\n",
    "print(\"Area of circle with radius\",r, \"is = \" ,round(area,4))"
   ]
  },
  {
   "cell_type": "code",
   "execution_count": 17,
   "id": "130ebabd",
   "metadata": {},
   "outputs": [
    {
     "name": "stdout",
     "output_type": "stream",
     "text": [
      "Enter the num1 :1\n",
      "Enter the num2 :1\n",
      "1.0\n"
     ]
    }
   ],
   "source": [
    "num1=float(input(\"Enter the num1 :\"))\n",
    "num2=float(input(\"Enter the num2 :\"))\n",
    "num=num1*num2\n",
    "print(round(num,2))"
   ]
  },
  {
   "cell_type": "markdown",
   "id": "a5fccdf0",
   "metadata": {},
   "source": [
    "# Conditional statements"
   ]
  },
  {
   "cell_type": "code",
   "execution_count": 18,
   "id": "f2e096f5",
   "metadata": {},
   "outputs": [
    {
     "name": "stdout",
     "output_type": "stream",
     "text": [
      "Yes\n"
     ]
    }
   ],
   "source": [
    "a=5\n",
    "if a<10 :\n",
    "    print(\"Yes\")\n",
    "else:\n",
    "    print(\"No\")"
   ]
  },
  {
   "cell_type": "code",
   "execution_count": 19,
   "id": "81c5d00b",
   "metadata": {},
   "outputs": [
    {
     "name": "stdout",
     "output_type": "stream",
     "text": [
      "X is greater than Y\n",
      "End of block\n",
      "Done\n"
     ]
    }
   ],
   "source": [
    "#Conditional Execution Statement\n",
    "#If-else\n",
    "\n",
    "x=7\n",
    "y=5\n",
    "\n",
    "if x>y:\n",
    "    print(\"X is greater than Y\")\n",
    "    print(\"End of block\")\n",
    "\n",
    "else:\n",
    "    print(\"Y is greater than x\")\n",
    "\n",
    "print(\"Done\")"
   ]
  },
  {
   "cell_type": "code",
   "execution_count": 20,
   "id": "ee2d211f",
   "metadata": {},
   "outputs": [
    {
     "name": "stdout",
     "output_type": "stream",
     "text": [
      "X is greater than Y\n",
      "Done\n"
     ]
    }
   ],
   "source": [
    "#Nested if-else\n",
    "if x==y:\n",
    "    print(\"X is equal to y\")\n",
    "else:\n",
    "    if x<y:\n",
    "        print(\"X is less than Y\")\n",
    "    else:\n",
    "        print(\"X is greater than Y\")\n",
    "print(\"Done\")"
   ]
  },
  {
   "cell_type": "code",
   "execution_count": 21,
   "id": "7b10f62e",
   "metadata": {},
   "outputs": [
    {
     "name": "stdout",
     "output_type": "stream",
     "text": [
      "Enter your Salary1\n",
      "This is the first salary bracket\n",
      "Employee belongs to low Income Group\n",
      "Done\n"
     ]
    }
   ],
   "source": [
    "#If-elif-elif-else ladder\n",
    "\n",
    "salary= float(input(\"Enter your Salary\"))\n",
    "\n",
    "\n",
    "if salary < 0:\n",
    "    print(\"Please Enter Valid number\")\n",
    "elif salary <= 30000:\n",
    "    print(\"This is the first salary bracket\")\n",
    "    print(\"Employee belongs to low Income Group\")\n",
    "elif salary <= 60000:\n",
    "    print(\"This is the Second salary bracket\")\n",
    "    print(\"Employee belongs to Medium Income Group\")\n",
    "elif salary <= 100000:\n",
    "    print(\"This is the third salary bracket\")\n",
    "    print(\"Employee belongs to High Income Group\")\n",
    "else:\n",
    "    print(\"This is the Fourth salary bracket\")\n",
    "    print(\"Employee belongs to very High Income Group\")\n",
    "\n",
    "print(\"Done\")"
   ]
  },
  {
   "cell_type": "code",
   "execution_count": 22,
   "id": "d4479dcb",
   "metadata": {},
   "outputs": [
    {
     "name": "stdout",
     "output_type": "stream",
     "text": [
      "Enter your Score1\n",
      "Certification of participation\n"
     ]
    }
   ],
   "source": [
    "score = int(input(\"Enter your Score\"))\n",
    "\n",
    "if score < 0 or score > 100:\n",
    "    print(\"Enter the valid score\")\n",
    "elif score > 90 and score < 100 :\n",
    "    print(\"Certificate of Excellence\")\n",
    "elif score > 70 and score < 90:\n",
    "    print(\"Certificate of Achievement\")\n",
    "elif score > 50 and score < 70:\n",
    "    print(\"Certificate of completion\")\n",
    "else:\n",
    "    print(\"Certification of participation\")"
   ]
  },
  {
   "cell_type": "code",
   "execution_count": 23,
   "id": "17fa12f2",
   "metadata": {},
   "outputs": [
    {
     "name": "stdout",
     "output_type": "stream",
     "text": [
      "Enter your Score1\n",
      "Certification of participation\n"
     ]
    }
   ],
   "source": [
    "score = int(input(\"Enter your Score\"))\n",
    "\n",
    "if score > 0 and score <= 100:\n",
    "    if score<50:\n",
    "        print(\"Certification of participation\")        \n",
    "    elif score < 70:\n",
    "        print(\"Certificate of Achievement\")\n",
    "    elif score < 90:\n",
    "        print(\"Certificate of Excellence\")\n",
    "    else:\n",
    "        print(\"Certificate of completion\")\n",
    "else:\n",
    "    print(\"Enter the valid score\")"
   ]
  },
  {
   "cell_type": "code",
   "execution_count": 24,
   "id": "17e4463c",
   "metadata": {},
   "outputs": [
    {
     "name": "stdout",
     "output_type": "stream",
     "text": [
      "x is a positive single-digit number\n"
     ]
    }
   ],
   "source": [
    "#multiple condition evaluation\n",
    "x=9;y=6\n",
    "if (x>y) | (y>7):\n",
    "    #T or F ==> T\n",
    "    print('x is a positive single-digit number')"
   ]
  },
  {
   "cell_type": "code",
   "execution_count": 25,
   "id": "f506269a",
   "metadata": {},
   "outputs": [
    {
     "name": "stdout",
     "output_type": "stream",
     "text": [
      "x is a positive single-digit number\n"
     ]
    }
   ],
   "source": [
    "#multiple condition evaluation\n",
    "x=5;y=8\n",
    "if ((x>7) & (y>7)) | (x!=y):\n",
    "    #(F and T) or T\n",
    "    #F or T ==> T\n",
    "    print('x is a positive single-digit number')"
   ]
  },
  {
   "cell_type": "code",
   "execution_count": 26,
   "id": "5043617a",
   "metadata": {},
   "outputs": [
    {
     "name": "stdout",
     "output_type": "stream",
     "text": [
      "5\n",
      "<class 'int'>\n",
      "b\n",
      "10\n",
      "<class 'str'>\n"
     ]
    }
   ],
   "source": [
    "a=\"5\"\n",
    "num=int(a) #convert the string value in tho numerical value\n",
    "print(num)\n",
    "print(type(num))\n",
    "\n",
    "\n",
    "a=chr(98) #uses the ASCII values to fetch the Character\n",
    "print(a)\n",
    "\n",
    "b=str(10) #convert the numerical value to a string\n",
    "print(b)\n",
    "print(type(b))"
   ]
  },
  {
   "cell_type": "code",
   "execution_count": 27,
   "id": "a8d2f911",
   "metadata": {},
   "outputs": [
    {
     "name": "stdout",
     "output_type": "stream",
     "text": [
      "Enter the number: 1\n",
      "Enter valid number\n"
     ]
    }
   ],
   "source": [
    "n = int(input(\"Enter the number: \"))\n",
    "\n",
    "\n",
    "if n == 0 or n == 1:\n",
    "    print(\"Enter valid number\")\n",
    "elif n%2 == 0:\n",
    "    print(\"The given number is Even\")\n",
    "else:\n",
    "    print(\"The given number is Odd\")"
   ]
  },
  {
   "cell_type": "code",
   "execution_count": 28,
   "id": "611f74a4",
   "metadata": {},
   "outputs": [],
   "source": [
    "# User define functions (UDF)\n",
    "#  function definition - def func_name():\n",
    "#  function calling\n",
    "\n",
    "# Parameterless function -- no arguments\n",
    "# Parameterized functions -- arguments "
   ]
  },
  {
   "cell_type": "code",
   "execution_count": 29,
   "id": "7638bad8",
   "metadata": {},
   "outputs": [],
   "source": [
    "def greeting(n):\n",
    "    print(f\"Hi {n}\")\n",
    "    print(\"How are you?\")"
   ]
  },
  {
   "cell_type": "code",
   "execution_count": 30,
   "id": "0c54cfd0",
   "metadata": {},
   "outputs": [
    {
     "name": "stdout",
     "output_type": "stream",
     "text": [
      "Enter your Name: 1\n",
      "Hi 1\n",
      "How are you?\n"
     ]
    }
   ],
   "source": [
    "name = input(\"Enter your Name: \")\n",
    "\n",
    "greeting(name)"
   ]
  },
  {
   "cell_type": "code",
   "execution_count": 31,
   "id": "09b37d1e",
   "metadata": {},
   "outputs": [],
   "source": [
    "def calc(a,b):\n",
    "    print(\"Multiplication \",a*b)\n",
    "    print(\"Addition \",a+b)\n",
    "    print(\"Subscration \",a-b)"
   ]
  },
  {
   "cell_type": "code",
   "execution_count": 32,
   "id": "228a9d37",
   "metadata": {},
   "outputs": [
    {
     "name": "stdout",
     "output_type": "stream",
     "text": [
      "Enter number 1: 1\n",
      "Enter number 2: 1\n",
      "Multiplication  1\n",
      "Addition  2\n",
      "Subscration  0\n"
     ]
    }
   ],
   "source": [
    "num1 = int(input(\"Enter number 1: \"))\n",
    "num2 = int(input(\"Enter number 2: \"))\n",
    "\n",
    "\n",
    "calc(num1,num2)"
   ]
  },
  {
   "cell_type": "code",
   "execution_count": 33,
   "id": "d3702f8f",
   "metadata": {},
   "outputs": [
    {
     "name": "stdout",
     "output_type": "stream",
     "text": [
      "\n",
      "0*\n",
      "0*1*\n",
      "0*1*2*\n",
      "0*1*2*3*\n"
     ]
    }
   ],
   "source": [
    "for i in range(0,5):\n",
    "    for j in range(0,i):\n",
    "        print(j, end=\"*\")\n",
    "    print(\"\")\n",
    "        \n",
    "        "
   ]
  },
  {
   "cell_type": "code",
   "execution_count": 34,
   "id": "5551c368",
   "metadata": {},
   "outputs": [],
   "source": [
    "def cube(a):\n",
    "    print(\"Value is = \",a)\n",
    "    print(\"The cube is = \", a*a*a)"
   ]
  },
  {
   "cell_type": "code",
   "execution_count": 35,
   "id": "449e9e2e",
   "metadata": {},
   "outputs": [
    {
     "name": "stdout",
     "output_type": "stream",
     "text": [
      "Value is =  10\n",
      "The cube is =  1000\n"
     ]
    }
   ],
   "source": [
    "cube(10)"
   ]
  },
  {
   "cell_type": "code",
   "execution_count": 36,
   "id": "e19d0da2",
   "metadata": {},
   "outputs": [
    {
     "name": "stdout",
     "output_type": "stream",
     "text": [
      "Enter the number: 1\n",
      "Value is =  1.0\n",
      "The cube is =  1.0\n"
     ]
    }
   ],
   "source": [
    "num = float(input(\"Enter the number: \"))\n",
    "\n",
    "cube(num)"
   ]
  },
  {
   "cell_type": "code",
   "execution_count": 37,
   "id": "c1fd3b94",
   "metadata": {},
   "outputs": [],
   "source": [
    "def cube(a):\n",
    "    print(\"Value is = \",a)\n",
    "#     print(\"The cube is = \", a*a*a)   ## SImply prints the output as a message.\n",
    "    return a*a*a    ## will return the ouput of the function which can be stored into a variable."
   ]
  },
  {
   "cell_type": "code",
   "execution_count": 38,
   "id": "eae02566",
   "metadata": {},
   "outputs": [
    {
     "name": "stdout",
     "output_type": "stream",
     "text": [
      "Value is =  1.0\n"
     ]
    }
   ],
   "source": [
    "cube_value = cube(num)"
   ]
  },
  {
   "cell_type": "code",
   "execution_count": 39,
   "id": "2fc191da",
   "metadata": {},
   "outputs": [
    {
     "data": {
      "text/plain": [
       "5.0"
      ]
     },
     "execution_count": 39,
     "metadata": {},
     "output_type": "execute_result"
    }
   ],
   "source": [
    "cube_value*5"
   ]
  },
  {
   "cell_type": "code",
   "execution_count": 40,
   "id": "d17d26b5",
   "metadata": {},
   "outputs": [],
   "source": [
    "def hi():\n",
    "    print(\"Hi User!\")\n",
    "    a = 10\n",
    "    b = 20\n",
    "    print(a*b)"
   ]
  },
  {
   "cell_type": "code",
   "execution_count": 41,
   "id": "af23f3c6",
   "metadata": {},
   "outputs": [
    {
     "name": "stdout",
     "output_type": "stream",
     "text": [
      "Hi User!\n",
      "200\n"
     ]
    }
   ],
   "source": [
    "hi()"
   ]
  },
  {
   "cell_type": "code",
   "execution_count": 42,
   "id": "9dcddeda",
   "metadata": {},
   "outputs": [
    {
     "data": {
      "text/plain": [
       "'b'"
      ]
     },
     "execution_count": 42,
     "metadata": {},
     "output_type": "execute_result"
    }
   ],
   "source": [
    "a  # a was a local variable not a global vaiable hence will return the error"
   ]
  },
  {
   "cell_type": "code",
   "execution_count": 43,
   "id": "1461b64d",
   "metadata": {},
   "outputs": [],
   "source": [
    "def even_odd_num(n):\n",
    "    if n == 0 or n == 1:\n",
    "        print(\"Enter valid number\")\n",
    "    elif n%2 == 0:\n",
    "        print(\"The given number is Even\")\n",
    "    else:\n",
    "        print(\"The given number is Odd\")"
   ]
  },
  {
   "cell_type": "code",
   "execution_count": 44,
   "id": "085eb846",
   "metadata": {},
   "outputs": [
    {
     "name": "stdout",
     "output_type": "stream",
     "text": [
      "Enter the number : 1\n",
      "Enter valid number\n"
     ]
    }
   ],
   "source": [
    "number = int(input(\"Enter the number : \"))\n",
    "\n",
    "even_odd_num(number)"
   ]
  },
  {
   "cell_type": "code",
   "execution_count": 45,
   "id": "97c743ad",
   "metadata": {},
   "outputs": [
    {
     "name": "stdout",
     "output_type": "stream",
     "text": [
      "The given number is Even\n"
     ]
    }
   ],
   "source": [
    "even_odd_num(20)"
   ]
  },
  {
   "cell_type": "markdown",
   "id": "d5717a8e",
   "metadata": {},
   "source": [
    "Loops\n",
    "\n",
    "while loop is suitable in conditional loop\n",
    "\n",
    "for loop is suitable in iterative loop\n",
    "\n",
    "\n",
    "While-\n",
    "1.) initialization of the iterator variable\n",
    "2.) condition evaluation\n",
    "3.) increment/decrement\n",
    "\n",
    "\n",
    "For loop is an iterative loop that traverses through every element of a given data structure and applies the same logic on each element\n",
    "\n",
    "iterative - iterate the set of values in a loop"
   ]
  },
  {
   "cell_type": "code",
   "execution_count": 48,
   "id": "da405962",
   "metadata": {
    "collapsed": true
   },
   "outputs": [
    {
     "name": "stdout",
     "output_type": "stream",
     "text": [
      "10\n",
      "9\n",
      "8\n",
      "7\n",
      "6\n",
      "5\n",
      "4\n",
      "3\n",
      "2\n",
      "1\n"
     ]
    }
   ],
   "source": [
    "i = 10\n",
    "\n",
    "while(i>=1):\n",
    "    print(i)\n",
    "    i=i-1"
   ]
  },
  {
   "cell_type": "code",
   "execution_count": 51,
   "id": "d949d6f1",
   "metadata": {},
   "outputs": [
    {
     "name": "stdout",
     "output_type": "stream",
     "text": [
      "1  is an odd number\n",
      "2  is an even number\n",
      "3  is an odd number\n",
      "4  is an even number\n",
      "5  is an odd number\n",
      "6  is an even number\n",
      "7  is an odd number\n",
      "8  is an even number\n",
      "9  is an odd number\n",
      "10  is an even number\n"
     ]
    }
   ],
   "source": [
    "i=1\n",
    "\n",
    "while(i<=10):\n",
    "    if i%2 ==0:\n",
    "        print(i, \" is an even number\")\n",
    "    else:\n",
    "        print(i,\" is an odd number\")\n",
    "    i=i+1"
   ]
  },
  {
   "cell_type": "code",
   "execution_count": 54,
   "id": "286fb3ad",
   "metadata": {},
   "outputs": [
    {
     "name": "stdout",
     "output_type": "stream",
     "text": [
      "1\n",
      "4\n",
      "9\n",
      "16\n",
      "25\n",
      "36\n",
      "out of loop\n"
     ]
    }
   ],
   "source": [
    "count=0\n",
    "while(count<=5):\n",
    "    count=count+1     ## pre-increment - means increament is done before the task/function.\n",
    "    print(count**2)\n",
    "#     count=count+1   ## post-increment - means increament is done after the task/function.\n",
    "else:\n",
    "    print(\"out of loop\")   # else can also be used with the while loop as when the condition is evaluated as false the else part eill run"
   ]
  },
  {
   "cell_type": "code",
   "execution_count": 58,
   "id": "06a72971",
   "metadata": {},
   "outputs": [
    {
     "name": "stdout",
     "output_type": "stream",
     "text": [
      "Hello Nikita\n",
      "Hello Sherish\n",
      "Hello Jyoti\n",
      "Hello Jagruti\n",
      "1\n",
      "2\n",
      "3\n",
      "4\n",
      "5\n",
      "6\n",
      "7\n",
      "8\n",
      "9\n",
      "10\n"
     ]
    }
   ],
   "source": [
    "list_name = [\"Nikita\",\"Sherish\", \"Jyoti\", \"Jagruti\"]\n",
    "\n",
    "\n",
    "for i in list_name:\n",
    "    print(f\"Hello {i}\")\n",
    "    \n",
    "    \n",
    "    \n",
    "for i in range (1,11):\n",
    "    print(i)"
   ]
  },
  {
   "cell_type": "code",
   "execution_count": 59,
   "id": "19959017",
   "metadata": {},
   "outputs": [
    {
     "name": "stdout",
     "output_type": "stream",
     "text": [
      "Hello Jagruti\n",
      "Hello Jyoti\n",
      "Hello Sherish\n",
      "Hello Nikita\n"
     ]
    }
   ],
   "source": [
    "list_name = [\"Nikita\",\"Sherish\", \"Jyoti\", \"Jagruti\"]\n",
    "\n",
    "for i in list_name[::-1]:\n",
    "    print(f\"Hello {i}\")"
   ]
  },
  {
   "cell_type": "code",
   "execution_count": 60,
   "id": "c71f5bb5",
   "metadata": {},
   "outputs": [
    {
     "data": {
      "text/plain": [
       "['Jagruti', 'Jyoti', 'Sherish', 'Nikita']"
      ]
     },
     "execution_count": 60,
     "metadata": {},
     "output_type": "execute_result"
    }
   ],
   "source": [
    "list_name[::-1]  ## [::-1] use to reverse any kind of structure or data."
   ]
  },
  {
   "cell_type": "code",
   "execution_count": 65,
   "id": "5f050d7b",
   "metadata": {},
   "outputs": [
    {
     "name": "stdout",
     "output_type": "stream",
     "text": [
      "5 * 1 = 5\n",
      "5 * 2 = 10\n",
      "5 * 3 = 15\n",
      "5 * 4 = 20\n",
      "5 * 5 = 25\n",
      "5 * 6 = 30\n",
      "5 * 7 = 35\n",
      "5 * 8 = 40\n",
      "5 * 9 = 45\n",
      "5 * 10 = 50\n"
     ]
    }
   ],
   "source": [
    "for i in range(1,11):\n",
    "    print(f\"5 * {i} = {5*i}\")"
   ]
  },
  {
   "cell_type": "code",
   "execution_count": 66,
   "id": "717ac365",
   "metadata": {},
   "outputs": [
    {
     "name": "stdout",
     "output_type": "stream",
     "text": [
      "5 * 1 = 5\n",
      "5 * 2 = 10\n",
      "5 * 3 = 15\n",
      "5 * 4 = 20\n",
      "5 * 5 = 25\n",
      "5 * 6 = 30\n",
      "5 * 7 = 35\n",
      "5 * 8 = 40\n",
      "5 * 9 = 45\n",
      "5 * 10 = 50\n"
     ]
    }
   ],
   "source": [
    "i=1\n",
    "\n",
    "while(i<=10):\n",
    "    print(f\"5 * {i} = {5*i}\")\n",
    "    i+=1"
   ]
  },
  {
   "cell_type": "code",
   "execution_count": null,
   "id": "364c2a82",
   "metadata": {},
   "outputs": [],
   "source": []
  },
  {
   "cell_type": "code",
   "execution_count": null,
   "id": "2f0b6204",
   "metadata": {},
   "outputs": [],
   "source": []
  },
  {
   "cell_type": "code",
   "execution_count": null,
   "id": "b4dd1450",
   "metadata": {},
   "outputs": [],
   "source": []
  },
  {
   "cell_type": "code",
   "execution_count": null,
   "id": "a3c1c35b",
   "metadata": {},
   "outputs": [],
   "source": []
  },
  {
   "cell_type": "code",
   "execution_count": null,
   "id": "fd1696ae",
   "metadata": {},
   "outputs": [],
   "source": []
  }
 ],
 "metadata": {
  "kernelspec": {
   "display_name": "Python 3 (ipykernel)",
   "language": "python",
   "name": "python3"
  },
  "language_info": {
   "codemirror_mode": {
    "name": "ipython",
    "version": 3
   },
   "file_extension": ".py",
   "mimetype": "text/x-python",
   "name": "python",
   "nbconvert_exporter": "python",
   "pygments_lexer": "ipython3",
   "version": "3.9.13"
  }
 },
 "nbformat": 4,
 "nbformat_minor": 5
}
